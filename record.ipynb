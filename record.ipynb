{
 "cells": [
  {
   "cell_type": "code",
   "execution_count": 1,
   "metadata": {},
   "outputs": [],
   "source": [
    "import os\n",
    "import argparse\n",
    "import gym\n",
    "import numpy as np\n",
    "import torch\n",
    "import torch.cuda\n",
    "import torch.multiprocessing as _mp\n",
    "\n",
    "from utils.font_color import color\n",
    "from models.actor_critic import ActorCritic\n",
    "from common.atari_wrapper import create_mario_env\n",
    "from optimizer.sharedadam import SharedAdam\n",
    "from trainer.a3c.train import train, test\n",
    "from common.mario_actions import ACTIONS\n"
   ]
  },
  {
   "cell_type": "code",
   "execution_count": 4,
   "metadata": {},
   "outputs": [],
   "source": [
    "env_name='SuperMarioBrosNoFrameskip-1-1-v0'\n",
    "save_path='.//save/trained-models/1-1-basic-reward.pkl'"
   ]
  },
  {
   "cell_type": "code",
   "execution_count": 5,
   "metadata": {},
   "outputs": [
    {
     "name": "stdout",
     "output_type": "stream",
     "text": [
      "\u001b[33mWARN: gym.spaces.Box autodetected dtype as <class 'numpy.uint8'>. Please provide explicit dtype.\u001b[0m\n",
      "\u001b[33mWARN: gym.spaces.Box autodetected dtype as <class 'numpy.uint8'>. Please provide explicit dtype.\u001b[0m\n"
     ]
    }
   ],
   "source": [
    "env = create_mario_env(env_name)\n",
    "shared_model = ActorCritic(\n",
    "        env.observation_space.shape[0], len(ACTIONS))\n",
    "\n",
    "shared_model.share_memory()\n",
    "shared_model.load_state_dict(torch.load(save_path))\n"
   ]
  },
  {
   "cell_type": "code",
   "execution_count": 4,
   "metadata": {},
   "outputs": [],
   "source": [
    "from gym.wrappers import Monitor\n",
    "\n",
    "env = Monitor(env, './video/')\n",
    "\n",
    "import torch\n",
    "import torch.nn.functional as F\n",
    "import torch.optim as optim\n",
    "from torch.autograd import Variable\n",
    "\n",
    "FloatTensor = torch.FloatTensor\n",
    "\n",
    "cx = Variable(torch.zeros(1, 512),  requires_grad=True ).type(FloatTensor)\n",
    "with torch.no_grad(): cx=cx\n",
    "hx = Variable(torch.zeros(1, 512),  requires_grad=True).type(FloatTensor)\n",
    "with torch.no_grad(): hx=hx"
   ]
  },
  {
   "cell_type": "code",
   "execution_count": 5,
   "metadata": {},
   "outputs": [
    {
     "name": "stdout",
     "output_type": "stream",
     "text": [
      "\u001b[33mWARN: <class 'common.atari_wrapper.BufferSkipFrames'> doesn't implement 'reset' method, but it implements deprecated '_reset' method.\u001b[0m\n"
     ]
    }
   ],
   "source": [
    "state = env.reset()\n",
    "state = torch.from_numpy(state)\n",
    "with torch.no_grad(): state_inp = Variable(state.unsqueeze(0)).type(FloatTensor)\n",
    "    \n",
    "for step in range(1000):\n",
    "    value,action, (hx,cx) = shared_model.forward((state_inp,(hx,cx))) \n",
    "    action = np.argmax(action.data.numpy())\n",
    "    state, reward, done, info = env.step(action)\n",
    "    state = torch.from_numpy(state)\n",
    "    with torch.no_grad():\n",
    "        state_inp = Variable(state.unsqueeze(0)).type(FloatTensor)\n",
    "\n",
    "    env.render()\n",
    "    if done : break\n",
    "\n",
    "env.close()"
   ]
  },
  {
   "cell_type": "code",
   "execution_count": null,
   "metadata": {},
   "outputs": [],
   "source": []
  }
 ],
 "metadata": {
  "kernelspec": {
   "display_name": "Python 3",
   "language": "python",
   "name": "python3"
  },
  "language_info": {
   "codemirror_mode": {
    "name": "ipython",
    "version": 3
   },
   "file_extension": ".py",
   "mimetype": "text/x-python",
   "name": "python",
   "nbconvert_exporter": "python",
   "pygments_lexer": "ipython3",
   "version": "3.6.6"
  }
 },
 "nbformat": 4,
 "nbformat_minor": 2
}
