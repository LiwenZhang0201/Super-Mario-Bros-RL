{
 "cells": [
  {
   "cell_type": "code",
   "execution_count": 1,
   "metadata": {},
   "outputs": [],
   "source": [
    "import copy\n",
    "import glob\n",
    "import os\n",
    "import time\n",
    "from collections import deque\n",
    "import csv\n",
    "\n",
    "import gym\n",
    "import numpy as np\n",
    "import torch\n",
    "import torch.nn as nn\n",
    "import torch.nn.functional as F\n",
    "import torch.optim as optim\n",
    "\n",
    "from a2c_ppo_acktr import algo\n",
    "from a2c_ppo_acktr.arguments import get_args\n",
    "from a2c_ppo_acktr.envs import make_vec_envs\n",
    "from a2c_ppo_acktr.model import Policy\n",
    "from a2c_ppo_acktr.icm import ICM\n",
    "from a2c_ppo_acktr.storage import RolloutStorage\n",
    "from a2c_ppo_acktr.utils import get_vec_normalize, update_linear_schedule\n",
    "from a2c_ppo_acktr.visualize import visdom_plot"
   ]
  },
  {
   "cell_type": "code",
   "execution_count": 2,
   "metadata": {},
   "outputs": [
    {
     "data": {
      "text/plain": [
       "device(type='cuda', index=0)"
      ]
     },
     "execution_count": 2,
     "metadata": {},
     "output_type": "execute_result"
    }
   ],
   "source": [
    "device = torch.device(\"cuda:0\")\n",
    "device"
   ]
  },
  {
   "cell_type": "code",
   "execution_count": 3,
   "metadata": {},
   "outputs": [
    {
     "ename": "NameError",
     "evalue": "name 'eval_file' is not defined",
     "output_type": "error",
     "traceback": [
      "\u001b[1;31m---------------------------------------------------------------------------\u001b[0m",
      "\u001b[1;31mNameError\u001b[0m                                 Traceback (most recent call last)",
      "\u001b[1;32m<ipython-input-3-ec358501fecb>\u001b[0m in \u001b[0;36m<module>\u001b[1;34m()\u001b[0m\n\u001b[0;32m     42\u001b[0m             \u001b[0mpercentile\u001b[0m \u001b[1;33m=\u001b[0m \u001b[0minfos\u001b[0m\u001b[1;33m[\u001b[0m\u001b[0mi\u001b[0m\u001b[1;33m]\u001b[0m\u001b[1;33m[\u001b[0m\u001b[1;34m'x_pos'\u001b[0m\u001b[1;33m]\u001b[0m\u001b[1;33m/\u001b[0m\u001b[0mnorm_pos\u001b[0m\u001b[1;33m\u001b[0m\u001b[0m\n\u001b[0;32m     43\u001b[0m             \u001b[0meval_episode_rewards\u001b[0m\u001b[1;33m.\u001b[0m\u001b[0mappend\u001b[0m\u001b[1;33m(\u001b[0m\u001b[0mpercentile\u001b[0m\u001b[1;33m)\u001b[0m\u001b[1;33m\u001b[0m\u001b[0m\n\u001b[1;32m---> 44\u001b[1;33m             \u001b[1;32mwith\u001b[0m \u001b[0mopen\u001b[0m\u001b[1;33m(\u001b[0m\u001b[0meval_file\u001b[0m\u001b[1;33m,\u001b[0m \u001b[1;34m'a'\u001b[0m\u001b[1;33m,\u001b[0m \u001b[0mnewline\u001b[0m\u001b[1;33m=\u001b[0m\u001b[1;34m''\u001b[0m\u001b[1;33m)\u001b[0m \u001b[1;32mas\u001b[0m \u001b[0msfile\u001b[0m\u001b[1;33m:\u001b[0m\u001b[1;33m\u001b[0m\u001b[0m\n\u001b[0m\u001b[0;32m     45\u001b[0m                 \u001b[0mwriter\u001b[0m \u001b[1;33m=\u001b[0m \u001b[0mcsv\u001b[0m\u001b[1;33m.\u001b[0m\u001b[0mwriter\u001b[0m\u001b[1;33m(\u001b[0m\u001b[0msfile\u001b[0m\u001b[1;33m)\u001b[0m\u001b[1;33m\u001b[0m\u001b[0m\n\u001b[0;32m     46\u001b[0m                 \u001b[0mwriter\u001b[0m\u001b[1;33m.\u001b[0m\u001b[0mwriterows\u001b[0m\u001b[1;33m(\u001b[0m\u001b[1;33m[\u001b[0m\u001b[1;33m[\u001b[0m\u001b[0mpercentile\u001b[0m\u001b[1;33m]\u001b[0m\u001b[1;33m]\u001b[0m\u001b[1;33m)\u001b[0m\u001b[1;33m\u001b[0m\u001b[0m\n",
      "\u001b[1;31mNameError\u001b[0m: name 'eval_file' is not defined"
     ]
    }
   ],
   "source": [
    "norm_pos = 3150\n",
    "num_proc = 1\n",
    "eval_envs = make_vec_envs(\n",
    "    'SuperMarioBrosNoFrameskip-1-1-v0', 1, num_proc,\n",
    "    0.9, '', False, device, True, 'dense')\n",
    "\n",
    "actor_critic = torch.load('./trained_models/ppo/SuperMarioBrosNoFrameskip-1-1-v0.pt')[0]\n",
    "actor_critic.to(device)\n",
    "\n",
    "\n",
    "\n",
    "vec_norm = get_vec_normalize(eval_envs)\n",
    "if vec_norm is not None:\n",
    "    vec_norm.eval()\n",
    "    vec_norm.ob_rms = get_vec_normalize(envs).ob_rms\n",
    "\n",
    "eval_episode_rewards = []\n",
    "\n",
    "obs = eval_envs.reset()\n",
    "eval_recurrent_hidden_states = torch.zeros(num_proc,\n",
    "                actor_critic.recurrent_hidden_state_size, device=device)\n",
    "\n",
    "eval_masks = torch.zeros(num_proc, 1, device=device)\n",
    "positions = deque(maxlen=400)\n",
    "\n",
    "while len(eval_episode_rewards) < 1:\n",
    "    with torch.no_grad():\n",
    "\n",
    "        _, action, _, eval_recurrent_hidden_states = actor_critic.act(\n",
    "            obs, eval_recurrent_hidden_states, eval_masks, deterministic=True)\n",
    "\n",
    "    # Obser reward and next obs\n",
    "    obs, reward, done, infos = eval_envs.step(action)\n",
    "    eval_envs.render()\n",
    "\n",
    "    eval_masks = torch.FloatTensor([[0.0] if done_ else [1.0]\n",
    "                                    for done_ in done]).cuda()\n",
    "    \n",
    "\n",
    "    for i, finished in enumerate(done):\n",
    "        if finished:\n",
    "            percentile = infos[i]['x_pos']/norm_pos\n",
    "            eval_episode_rewards.append(percentile)\n",
    "            with open(eval_file, 'a', newline='') as sfile:\n",
    "                writer = csv.writer(sfile)\n",
    "                writer.writerows([[percentile]])\n",
    "\n",
    "    #to prevent the agent from getting stuck\n",
    "    positions.append(infos[0]['x_pos'])\n",
    "    pos_ar = np.array(positions)\n",
    "    if (len(positions) >= 200) and (pos_ar < pos_ar[-1] + 20).all() and (pos_ar > pos_ar[-1] - 20).all():\n",
    "        percentile = infos[0]['x_pos']/norm_pos\n",
    "        eval_episode_rewards.append(percentile)\n",
    "        with open(eval_file, 'a', newline='') as sfile:\n",
    "            writer = csv.writer(sfile)\n",
    "            writer.writerows([[percentile]])\n",
    "\n",
    "eval_envs.close()\n",
    "positions.clear()\n"
   ]
  },
  {
   "cell_type": "code",
   "execution_count": 10,
   "metadata": {},
   "outputs": [],
   "source": [
    "import pandas as pd\n",
    "import numpy as np"
   ]
  },
  {
   "cell_type": "code",
   "execution_count": 6,
   "metadata": {},
   "outputs": [],
   "source": [
    "import glob \n",
    "path ='./log_dir/model_ppo_dense/' # use your path\n",
    "default = glob.glob(path + \"train*.csv\")"
   ]
  },
  {
   "cell_type": "code",
   "execution_count": 8,
   "metadata": {},
   "outputs": [],
   "source": [
    "list_ = []\n",
    "\n",
    "for file_ in default:\n",
    "    df = pd.read_csv(file_, header=None)\n",
    "    list_.append(df)\n",
    "\n",
    "frame_def = pd.concat(list_, axis = 1, ignore_index = True)"
   ]
  },
  {
   "cell_type": "code",
   "execution_count": 12,
   "metadata": {},
   "outputs": [],
   "source": [
    "means_def = np.nanmean(frame_def.values, axis=1)\n",
    "std_def = np.nanstd(frame_def.values, axis=1)\n",
    "maxi_def = np.nanmax(frame_def.values, axis=1)\n",
    "mini_def = np.nanmin(frame_def.values, axis=1)\n",
    "n_itr_def = frame_def.shape[0]"
   ]
  },
  {
   "cell_type": "code",
   "execution_count": 17,
   "metadata": {},
   "outputs": [],
   "source": [
    "def moving_average(a, n=3) :\n",
    "    ret = np.cumsum(a, dtype=float)\n",
    "    ret[n:] = ret[n:] - ret[:-n]\n",
    "    return ret[n - 1:] / n"
   ]
  },
  {
   "cell_type": "code",
   "execution_count": 19,
   "metadata": {},
   "outputs": [
    {
     "data": {
      "image/png": "[encoded data removed]",
      "text/plain": [
       "<Figure size 432x288 with 1 Axes>"
      ]
     },
     "metadata": {
      "needs_background": "light"
     },
     "output_type": "display_data"
    }
   ],
   "source": [
    "import matplotlib.pyplot as plt\n",
    "plt.plot(moving_average(means_def[:-10], 10), color='red')\n",
    "plt.fill_between(np.arange(n_itr_def), means_def + std_def, means_def - std_def , alpha=0.3 )\n",
    "plt.show()"
   ]
  },
  {
   "cell_type": "code",
   "execution_count": 253,
   "metadata": {},
   "outputs": [
    {
     "data": {
      "text/plain": [
       "197.67031776433024"
      ]
     },
     "execution_count": 253,
     "metadata": {},
     "output_type": "execute_result"
    }
   ],
   "source": [
    "std_cur[-50:].mean()"
   ]
  },
  {
   "cell_type": "code",
   "execution_count": 254,
   "metadata": {},
   "outputs": [
    {
     "data": {
      "text/plain": [
       "257.44480344418326"
      ]
     },
     "execution_count": 254,
     "metadata": {},
     "output_type": "execute_result"
    }
   ],
   "source": [
    "std_def[-50:].mean()"
   ]
  }
 ],
 "metadata": {
  "kernelspec": {
   "display_name": "Python 3",
   "language": "python",
   "name": "python3"
  },
  "language_info": {
   "codemirror_mode": {
    "name": "ipython",
    "version": 3
   },
   "file_extension": ".py",
   "mimetype": "text/x-python",
   "name": "python",
   "nbconvert_exporter": "python",
   "pygments_lexer": "ipython3",
   "version": "3.6.6"
  }
 },
 "nbformat": 4,
 "nbformat_minor": 2
}
