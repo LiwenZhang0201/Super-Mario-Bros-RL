{
 "cells": [
  {
   "cell_type": "code",
   "execution_count": 1,
   "metadata": {},
   "outputs": [],
   "source": [
    "import os\n",
    "import argparse\n",
    "import gym\n",
    "import numpy as np\n",
    "import torch\n",
    "import torch.cuda\n",
    "import torch.multiprocessing as _mp\n",
    "\n",
    "from utils.font_color import color\n",
    "from models.actor_critic import ActorCritic\n",
    "from common.atari_wrapper import create_mario_env\n",
    "from optimizer.sharedadam import SharedAdam\n",
    "from trainer.a3c.train import train, test\n",
    "from common.mario_actions import ACTIONS\n"
   ]
  },
  {
   "cell_type": "code",
   "execution_count": 2,
   "metadata": {},
   "outputs": [],
   "source": [
    "env_name='SuperMarioBrosNoFrameskip-1-1-v0'\n",
    "save_path='.//save/trained-models/curiosity/mario_a3c_params.pkl'"
   ]
  },
  {
   "cell_type": "code",
   "execution_count": 3,
   "metadata": {},
   "outputs": [],
   "source": [
    "env = create_mario_env(env_name, reward_type='dense')\n",
    "shared_model = ActorCritic(\n",
    "        env.observation_space.shape[0], len(ACTIONS))\n",
    "\n",
    "shared_model.share_memory()\n",
    "shared_model.load_state_dict(torch.load(save_path))\n"
   ]
  },
  {
   "cell_type": "code",
   "execution_count": 4,
   "metadata": {},
   "outputs": [],
   "source": [
    "from gym.wrappers import Monitor\n",
    "\n",
    "# env = Monitor(env, './video/')\n",
    "\n",
    "import torch\n",
    "import torch.nn.functional as F\n",
    "import torch.optim as optim\n",
    "from torch.autograd import Variable\n",
    "\n",
    "FloatTensor = torch.FloatTensor\n",
    "\n",
    "cx = Variable(torch.zeros(1, 512),  requires_grad=True ).type(FloatTensor)\n",
    "with torch.no_grad(): cx=cx\n",
    "hx = Variable(torch.zeros(1, 512),  requires_grad=True).type(FloatTensor)\n",
    "with torch.no_grad(): hx=hx"
   ]
  },
  {
   "cell_type": "code",
   "execution_count": 5,
   "metadata": {},
   "outputs": [],
   "source": [
    "state = env.reset()\n",
    "state = torch.from_numpy(state)\n",
    "with torch.no_grad(): state_inp = Variable(state.unsqueeze(0)).type(FloatTensor)\n",
    "    \n",
    "for step in range(1000):\n",
    "    value,action, (hx,cx) = shared_model.forward((state_inp,(hx,cx))) \n",
    "    action = np.argmax(action.data.numpy())\n",
    "    state, reward, done, info = env.step(action)\n",
    "    state = torch.from_numpy(state)\n",
    "    with torch.no_grad():\n",
    "        state_inp = Variable(state.unsqueeze(0)).type(FloatTensor)\n",
    "\n",
    "    env.render()\n",
    "    if done : break\n",
    "\n",
    "env.close()"
   ]
  },
  {
   "cell_type": "code",
   "execution_count": 7,
   "metadata": {},
   "outputs": [
    {
     "ename": "FileNotFoundError",
     "evalue": "File b'./save/default_dense/mario_curves.csv' does not exist",
     "output_type": "error",
     "traceback": [
      "\u001b[1;31m---------------------------------------------------------------------------\u001b[0m",
      "\u001b[1;31mFileNotFoundError\u001b[0m                         Traceback (most recent call last)",
      "\u001b[1;32m<ipython-input-7-23851bdebef4>\u001b[0m in \u001b[0;36m<module>\u001b[1;34m()\u001b[0m\n\u001b[0;32m      2\u001b[0m \u001b[1;32mimport\u001b[0m \u001b[0mmatplotlib\u001b[0m\u001b[1;33m.\u001b[0m\u001b[0mpyplot\u001b[0m \u001b[1;32mas\u001b[0m \u001b[0mplt\u001b[0m\u001b[1;33m\u001b[0m\u001b[0m\n\u001b[0;32m      3\u001b[0m \u001b[0mdf\u001b[0m \u001b[1;33m=\u001b[0m \u001b[0mpd\u001b[0m\u001b[1;33m.\u001b[0m\u001b[0mread_csv\u001b[0m\u001b[1;33m(\u001b[0m\u001b[1;34m'./save/trained-models/curiosity/mario_curves.csv'\u001b[0m\u001b[1;33m)\u001b[0m\u001b[1;33m\u001b[0m\u001b[0m\n\u001b[1;32m----> 4\u001b[1;33m \u001b[0mdf2\u001b[0m \u001b[1;33m=\u001b[0m \u001b[0mpd\u001b[0m\u001b[1;33m.\u001b[0m\u001b[0mread_csv\u001b[0m\u001b[1;33m(\u001b[0m\u001b[1;34m'./save/default_dense/mario_curves.csv'\u001b[0m\u001b[1;33m)\u001b[0m\u001b[1;33m\u001b[0m\u001b[0m\n\u001b[0m\u001b[0;32m      5\u001b[0m \u001b[1;31m# df = df.drop(df.loc[df['Total Reward'] == 'Total Reward' ].index)\u001b[0m\u001b[1;33m\u001b[0m\u001b[1;33m\u001b[0m\u001b[0m\n\u001b[0;32m      6\u001b[0m \u001b[1;31m#df2 = df2.drop(df2.loc[df2['Total Reward'] == 'Total Reward' ].index)\u001b[0m\u001b[1;33m\u001b[0m\u001b[1;33m\u001b[0m\u001b[0m\n",
      "\u001b[1;32mC:\\ProgramData\\Anaconda3\\envs\\tf-gpu\\lib\\site-packages\\pandas\\io\\parsers.py\u001b[0m in \u001b[0;36mparser_f\u001b[1;34m(filepath_or_buffer, sep, delimiter, header, names, index_col, usecols, squeeze, prefix, mangle_dupe_cols, dtype, engine, converters, true_values, false_values, skipinitialspace, skiprows, nrows, na_values, keep_default_na, na_filter, verbose, skip_blank_lines, parse_dates, infer_datetime_format, keep_date_col, date_parser, dayfirst, iterator, chunksize, compression, thousands, decimal, lineterminator, quotechar, quoting, escapechar, comment, encoding, dialect, tupleize_cols, error_bad_lines, warn_bad_lines, skipfooter, doublequote, delim_whitespace, low_memory, memory_map, float_precision)\u001b[0m\n\u001b[0;32m    676\u001b[0m                     skip_blank_lines=skip_blank_lines)\n\u001b[0;32m    677\u001b[0m \u001b[1;33m\u001b[0m\u001b[0m\n\u001b[1;32m--> 678\u001b[1;33m         \u001b[1;32mreturn\u001b[0m \u001b[0m_read\u001b[0m\u001b[1;33m(\u001b[0m\u001b[0mfilepath_or_buffer\u001b[0m\u001b[1;33m,\u001b[0m \u001b[0mkwds\u001b[0m\u001b[1;33m)\u001b[0m\u001b[1;33m\u001b[0m\u001b[0m\n\u001b[0m\u001b[0;32m    679\u001b[0m \u001b[1;33m\u001b[0m\u001b[0m\n\u001b[0;32m    680\u001b[0m     \u001b[0mparser_f\u001b[0m\u001b[1;33m.\u001b[0m\u001b[0m__name__\u001b[0m \u001b[1;33m=\u001b[0m \u001b[0mname\u001b[0m\u001b[1;33m\u001b[0m\u001b[0m\n",
      "\u001b[1;32mC:\\ProgramData\\Anaconda3\\envs\\tf-gpu\\lib\\site-packages\\pandas\\io\\parsers.py\u001b[0m in \u001b[0;36m_read\u001b[1;34m(filepath_or_buffer, kwds)\u001b[0m\n\u001b[0;32m    438\u001b[0m \u001b[1;33m\u001b[0m\u001b[0m\n\u001b[0;32m    439\u001b[0m     \u001b[1;31m# Create the parser.\u001b[0m\u001b[1;33m\u001b[0m\u001b[1;33m\u001b[0m\u001b[0m\n\u001b[1;32m--> 440\u001b[1;33m     \u001b[0mparser\u001b[0m \u001b[1;33m=\u001b[0m \u001b[0mTextFileReader\u001b[0m\u001b[1;33m(\u001b[0m\u001b[0mfilepath_or_buffer\u001b[0m\u001b[1;33m,\u001b[0m \u001b[1;33m**\u001b[0m\u001b[0mkwds\u001b[0m\u001b[1;33m)\u001b[0m\u001b[1;33m\u001b[0m\u001b[0m\n\u001b[0m\u001b[0;32m    441\u001b[0m \u001b[1;33m\u001b[0m\u001b[0m\n\u001b[0;32m    442\u001b[0m     \u001b[1;32mif\u001b[0m \u001b[0mchunksize\u001b[0m \u001b[1;32mor\u001b[0m \u001b[0miterator\u001b[0m\u001b[1;33m:\u001b[0m\u001b[1;33m\u001b[0m\u001b[0m\n",
      "\u001b[1;32mC:\\ProgramData\\Anaconda3\\envs\\tf-gpu\\lib\\site-packages\\pandas\\io\\parsers.py\u001b[0m in \u001b[0;36m__init__\u001b[1;34m(self, f, engine, **kwds)\u001b[0m\n\u001b[0;32m    785\u001b[0m             \u001b[0mself\u001b[0m\u001b[1;33m.\u001b[0m\u001b[0moptions\u001b[0m\u001b[1;33m[\u001b[0m\u001b[1;34m'has_index_names'\u001b[0m\u001b[1;33m]\u001b[0m \u001b[1;33m=\u001b[0m \u001b[0mkwds\u001b[0m\u001b[1;33m[\u001b[0m\u001b[1;34m'has_index_names'\u001b[0m\u001b[1;33m]\u001b[0m\u001b[1;33m\u001b[0m\u001b[0m\n\u001b[0;32m    786\u001b[0m \u001b[1;33m\u001b[0m\u001b[0m\n\u001b[1;32m--> 787\u001b[1;33m         \u001b[0mself\u001b[0m\u001b[1;33m.\u001b[0m\u001b[0m_make_engine\u001b[0m\u001b[1;33m(\u001b[0m\u001b[0mself\u001b[0m\u001b[1;33m.\u001b[0m\u001b[0mengine\u001b[0m\u001b[1;33m)\u001b[0m\u001b[1;33m\u001b[0m\u001b[0m\n\u001b[0m\u001b[0;32m    788\u001b[0m \u001b[1;33m\u001b[0m\u001b[0m\n\u001b[0;32m    789\u001b[0m     \u001b[1;32mdef\u001b[0m \u001b[0mclose\u001b[0m\u001b[1;33m(\u001b[0m\u001b[0mself\u001b[0m\u001b[1;33m)\u001b[0m\u001b[1;33m:\u001b[0m\u001b[1;33m\u001b[0m\u001b[0m\n",
      "\u001b[1;32mC:\\ProgramData\\Anaconda3\\envs\\tf-gpu\\lib\\site-packages\\pandas\\io\\parsers.py\u001b[0m in \u001b[0;36m_make_engine\u001b[1;34m(self, engine)\u001b[0m\n\u001b[0;32m   1012\u001b[0m     \u001b[1;32mdef\u001b[0m \u001b[0m_make_engine\u001b[0m\u001b[1;33m(\u001b[0m\u001b[0mself\u001b[0m\u001b[1;33m,\u001b[0m \u001b[0mengine\u001b[0m\u001b[1;33m=\u001b[0m\u001b[1;34m'c'\u001b[0m\u001b[1;33m)\u001b[0m\u001b[1;33m:\u001b[0m\u001b[1;33m\u001b[0m\u001b[0m\n\u001b[0;32m   1013\u001b[0m         \u001b[1;32mif\u001b[0m \u001b[0mengine\u001b[0m \u001b[1;33m==\u001b[0m \u001b[1;34m'c'\u001b[0m\u001b[1;33m:\u001b[0m\u001b[1;33m\u001b[0m\u001b[0m\n\u001b[1;32m-> 1014\u001b[1;33m             \u001b[0mself\u001b[0m\u001b[1;33m.\u001b[0m\u001b[0m_engine\u001b[0m \u001b[1;33m=\u001b[0m \u001b[0mCParserWrapper\u001b[0m\u001b[1;33m(\u001b[0m\u001b[0mself\u001b[0m\u001b[1;33m.\u001b[0m\u001b[0mf\u001b[0m\u001b[1;33m,\u001b[0m \u001b[1;33m**\u001b[0m\u001b[0mself\u001b[0m\u001b[1;33m.\u001b[0m\u001b[0moptions\u001b[0m\u001b[1;33m)\u001b[0m\u001b[1;33m\u001b[0m\u001b[0m\n\u001b[0m\u001b[0;32m   1015\u001b[0m         \u001b[1;32melse\u001b[0m\u001b[1;33m:\u001b[0m\u001b[1;33m\u001b[0m\u001b[0m\n\u001b[0;32m   1016\u001b[0m             \u001b[1;32mif\u001b[0m \u001b[0mengine\u001b[0m \u001b[1;33m==\u001b[0m \u001b[1;34m'python'\u001b[0m\u001b[1;33m:\u001b[0m\u001b[1;33m\u001b[0m\u001b[0m\n",
      "\u001b[1;32mC:\\ProgramData\\Anaconda3\\envs\\tf-gpu\\lib\\site-packages\\pandas\\io\\parsers.py\u001b[0m in \u001b[0;36m__init__\u001b[1;34m(self, src, **kwds)\u001b[0m\n\u001b[0;32m   1706\u001b[0m         \u001b[0mkwds\u001b[0m\u001b[1;33m[\u001b[0m\u001b[1;34m'usecols'\u001b[0m\u001b[1;33m]\u001b[0m \u001b[1;33m=\u001b[0m \u001b[0mself\u001b[0m\u001b[1;33m.\u001b[0m\u001b[0musecols\u001b[0m\u001b[1;33m\u001b[0m\u001b[0m\n\u001b[0;32m   1707\u001b[0m \u001b[1;33m\u001b[0m\u001b[0m\n\u001b[1;32m-> 1708\u001b[1;33m         \u001b[0mself\u001b[0m\u001b[1;33m.\u001b[0m\u001b[0m_reader\u001b[0m \u001b[1;33m=\u001b[0m \u001b[0mparsers\u001b[0m\u001b[1;33m.\u001b[0m\u001b[0mTextReader\u001b[0m\u001b[1;33m(\u001b[0m\u001b[0msrc\u001b[0m\u001b[1;33m,\u001b[0m \u001b[1;33m**\u001b[0m\u001b[0mkwds\u001b[0m\u001b[1;33m)\u001b[0m\u001b[1;33m\u001b[0m\u001b[0m\n\u001b[0m\u001b[0;32m   1709\u001b[0m \u001b[1;33m\u001b[0m\u001b[0m\n\u001b[0;32m   1710\u001b[0m         \u001b[0mpassed_names\u001b[0m \u001b[1;33m=\u001b[0m \u001b[0mself\u001b[0m\u001b[1;33m.\u001b[0m\u001b[0mnames\u001b[0m \u001b[1;32mis\u001b[0m \u001b[1;32mNone\u001b[0m\u001b[1;33m\u001b[0m\u001b[0m\n",
      "\u001b[1;32mpandas\\_libs\\parsers.pyx\u001b[0m in \u001b[0;36mpandas._libs.parsers.TextReader.__cinit__\u001b[1;34m()\u001b[0m\n",
      "\u001b[1;32mpandas\\_libs\\parsers.pyx\u001b[0m in \u001b[0;36mpandas._libs.parsers.TextReader._setup_parser_source\u001b[1;34m()\u001b[0m\n",
      "\u001b[1;31mFileNotFoundError\u001b[0m: File b'./save/default_dense/mario_curves.csv' does not exist"
     ]
    }
   ],
   "source": [
    "import pandas as pd  \n",
    "import matplotlib.pyplot as plt \n",
    "df = pd.read_csv('./save/trained-models/curiosity/mario_curves.csv')\n",
    "df2 = pd.read_csv('./save/default_dense/mario_curves.csv')\n",
    "# df = df.drop(df.loc[df['Total Reward'] == 'Total Reward' ].index)\n",
    "#df2 = df2.drop(df2.loc[df2['Total Reward'] == 'Total Reward' ].index)\n",
    "df['Total Reward'] = df['Total Reward'].astype(float)\n",
    "df2['Total Reward'] = df2['Total Reward'].astype(float)\n",
    "plt.plot(df['Total Reward'], c ='blue')\n",
    "plt.plot(df2['Total Reward'], c ='red')\n",
    "\n",
    "plt.show()"
   ]
  },
  {
   "cell_type": "code",
   "execution_count": 319,
   "metadata": {},
   "outputs": [],
   "source": [
    "import glob \n",
    "import pandas as pd\n",
    "path ='./save/' # use your path\n",
    "#default = glob.glob(path + \"default_dense/train*.csv\")\n",
    "curiosity = glob.glob(path + \"curiosity_sparse/train*.csv\")"
   ]
  },
  {
   "cell_type": "code",
   "execution_count": null,
   "metadata": {},
   "outputs": [],
   "source": [
    "list_ = []\n",
    "\n",
    "for file_ in curiosity:\n",
    "    df = pd.read_csv(file_, header=None)\n",
    "    list_.append(df.iloc[:,1])\n",
    "\n",
    "frame_cur = pd.concat(list_, axis = 1, ignore_index = True)"
   ]
  },
  {
   "cell_type": "code",
   "execution_count": 315,
   "metadata": {},
   "outputs": [],
   "source": [
    "# list_ = []\n",
    "\n",
    "# for file_ in default:\n",
    "#     df = pd.read_csv(file_, header=None)\n",
    "#     list_.append(df)\n",
    "\n",
    "# frame_def = pd.concat(list_, axis = 1, ignore_index = True)"
   ]
  },
  {
   "cell_type": "code",
   "execution_count": 316,
   "metadata": {},
   "outputs": [],
   "source": [
    "means_cur = np.nanmean(frame_cur.values, axis=1)\n",
    "std_cur = np.nanstd(frame_cur.values, axis=1)\n",
    "maxi_cur = np.nanmax(frame_cur.values, axis=1)\n",
    "mini_cur = np.nanmin(frame_cur.values, axis=1)\n",
    "n_itr_cur = frame_cur.shape[0]"
   ]
  },
  {
   "cell_type": "code",
   "execution_count": 317,
   "metadata": {},
   "outputs": [],
   "source": [
    "# means_def = np.nanmean(frame_def.values, axis=1)\n",
    "# std_def = np.nanstd(frame_def.values, axis=1)\n",
    "# maxi_def = np.nanmax(frame_def.values, axis=1)\n",
    "# mini_def = np.nanmin(frame_def.values, axis=1)\n",
    "# n_itr_def = frame_def.shape[0]\n",
    "import matplotlib.pyplot as plt"
   ]
  },
  {
   "cell_type": "code",
   "execution_count": 318,
   "metadata": {},
   "outputs": [
    {
     "data": {
      "image/png": "[encoded data removed]",
      "text/plain": [
       "<matplotlib.figure.Figure at 0x7f148732d0f0>"
      ]
     },
     "metadata": {},
     "output_type": "display_data"
    }
   ],
   "source": [
    "plt.plot(means_cur, color='blue')\n",
    "plt.fill_between(np.arange(n_itr_cur), means_cur + std_cur, means_cur - std_cur , alpha=0.3 )\n",
    "# plt.plot(means_def[:-10], color='red')\n",
    "# plt.fill_between(np.arange(n_itr_def), means_def + std_def, means_def - std_def , alpha=0.3 )\n",
    "plt.show()"
   ]
  },
  {
   "cell_type": "code",
   "execution_count": 155,
   "metadata": {},
   "outputs": [
    {
     "data": {
      "text/plain": [
       "139"
      ]
     },
     "execution_count": 155,
     "metadata": {},
     "output_type": "execute_result"
    }
   ],
   "source": [
    "len(means_cur)"
   ]
  },
  {
   "cell_type": "code",
   "execution_count": 112,
   "metadata": {},
   "outputs": [
    {
     "data": {
      "text/plain": [
       "0.004425814615627966"
      ]
     },
     "execution_count": 112,
     "metadata": {},
     "output_type": "execute_result"
    }
   ],
   "source": [
    "std_cur[-50:].mean()"
   ]
  },
  {
   "cell_type": "code",
   "execution_count": 82,
   "metadata": {},
   "outputs": [
    {
     "ename": "NameError",
     "evalue": "name 'std_def' is not defined",
     "output_type": "error",
     "traceback": [
      "\u001b[0;31m---------------------------------------------------------------------------\u001b[0m",
      "\u001b[0;31mNameError\u001b[0m                                 Traceback (most recent call last)",
      "\u001b[0;32m<ipython-input-82-64fb118b7e4d>\u001b[0m in \u001b[0;36m<module>\u001b[0;34m()\u001b[0m\n\u001b[0;32m----> 1\u001b[0;31m \u001b[0mstd_def\u001b[0m\u001b[0;34m[\u001b[0m\u001b[0;34m-\u001b[0m\u001b[0;36m50\u001b[0m\u001b[0;34m:\u001b[0m\u001b[0;34m]\u001b[0m\u001b[0;34m.\u001b[0m\u001b[0mmean\u001b[0m\u001b[0;34m(\u001b[0m\u001b[0;34m)\u001b[0m\u001b[0;34m\u001b[0m\u001b[0;34m\u001b[0m\u001b[0m\n\u001b[0m",
      "\u001b[0;31mNameError\u001b[0m: name 'std_def' is not defined"
     ]
    }
   ],
   "source": [
    "std_def[-50:].mean()"
   ]
  },
  {
   "cell_type": "code",
   "execution_count": 91,
   "metadata": {},
   "outputs": [
    {
     "data": {
      "text/plain": [
       "array([0.12562068, 0.14018679, 0.17623757, 0.15964953, 0.1682324 ,\n",
       "       0.14810943, 0.15469788, 0.15076407, 0.18589329, 0.16317071,\n",
       "       0.19323824, 0.18942822, 0.18842414, 0.17911228, 0.20290772,\n",
       "       0.21095416, 0.19825867, 0.20887721, 0.21817532, 0.19993673,\n",
       "       0.19226167, 0.20527351, 0.21319615, 0.20470957, 0.20542481,\n",
       "       0.20671774, 0.20370549, 0.24474919, 0.21047275, 0.19686946,\n",
       "       0.19138137, 0.25568408, 0.17765429, 0.18717247, 0.22513514,\n",
       "       0.23253511, 0.19953785, 0.21215081, 0.19967539, 0.2304169 ,\n",
       "       0.19455868, 0.18843789, 0.2033066 , 0.19154643, 0.21297608,\n",
       "       0.22198534, 0.20897349, 0.2310221 , 0.21268723, 0.24402019,\n",
       "       0.21406269, 0.17321156, 0.20560362, 0.22631803, 0.22045858,\n",
       "       0.22374593, 0.19627801, 0.19962037, 0.24891683, 0.25657813,\n",
       "       0.25313949, 0.20439322, 0.22902769, 0.22677194, 0.26422569,\n",
       "       0.21788647, 0.30218836, 0.21755636, 0.25653687, 0.27895685,\n",
       "       0.25000344, 0.26985131, 0.27811782, 0.24937073, 0.26646768,\n",
       "       0.22044482, 0.25910898, 0.24909564, 0.27756764, 0.23100835,\n",
       "       0.26272643, 0.24791274, 0.2626164 , 0.26238257, 0.26670151,\n",
       "       0.27561449, 0.2915423 , 0.27305613, 0.34101756, 0.28289066,\n",
       "       0.21651101, 0.23675777, 0.26850336, 0.28912149, 0.30785525,\n",
       "       0.29240884, 0.22663439, 0.27344126, 0.25227295, 0.28799362,\n",
       "       0.29228505, 0.27642601, 0.28183156, 0.28532523, 0.31499388,\n",
       "       0.24877928, 0.24147559, 0.2659175 , 0.27059406, 0.26644017,\n",
       "       0.3125043 , 0.28813116, 0.26692159, 0.32705666, 0.30907941,\n",
       "       0.2626164 , 0.26978254, 0.27777396, 0.29334415, 0.30736008,\n",
       "       0.29031814, 0.23750052, 0.30240843, 0.23824326, 0.27163941,\n",
       "       0.22895892, 0.26671527, 0.30557198, 0.22468124, 0.23902728,\n",
       "       0.26736173, 0.28994677, 0.28271186, 0.2790944 , 0.29429322,\n",
       "       0.29223003, 0.29645269, 0.29562742, 0.24403395, 0.31836375,\n",
       "       0.30674112, 0.26190116, 0.29568243, 0.30244969, 0.25073243,\n",
       "       0.30720878, 0.25887515, 0.31136267, 0.38705418, 0.3268916 ,\n",
       "       0.25917775, 0.30946453, 0.2930278 , 0.2894241 , 0.30643852,\n",
       "       0.24831162, 0.31514518, 0.28359215, 0.3199868 , 0.25139265,\n",
       "       0.29814451, 0.30496678, 0.29608132, 0.26425319, 0.31305448,\n",
       "       0.34284693, 0.36005392, 0.27917693, 0.3444287 , 0.36240595,\n",
       "       0.22319574, 0.27780147, 0.27755388, 0.27265725, 0.28147394,\n",
       "       0.27000261, 0.28253305, 0.24049902, 0.2846375 , 0.27451412,\n",
       "       0.23613881, 0.26253387, 0.28507764, 0.27693493, 0.29976755,\n",
       "       0.29844711, 0.29819952, 0.28078621, 0.31460875, 0.29335791,\n",
       "       0.31118386, 0.27678363, 0.29792443, 0.26192867, 0.32353548,\n",
       "       0.26091083, 0.29346794, 0.31137642, 0.31145895, 0.26125469,\n",
       "       0.30342627, 0.32266894, 0.33193953, 0.35904983, 0.23217749,\n",
       "       0.26180488, 0.34074247, 0.30088167, 0.2555878 , 0.30221586,\n",
       "       0.29217501, 0.31536525, 0.37435869, 0.30137683, 0.30495303,\n",
       "       0.32295779, 0.31467752, 0.27932823, 0.36049406, 0.33867928,\n",
       "       0.3111701 , 0.26595876, 0.32951873, 0.34645063, 0.29562742,\n",
       "       0.31088126, 0.30195453, 0.28089625, 0.30169319, 0.30712375,\n",
       "       0.27725691, 0.27200828, 0.28923528, 0.32814702, 0.33424405,\n",
       "       0.3537143 , 0.27738633, 0.2892928 , 0.34183659, 0.30935262,\n",
       "       0.30098358, 0.33037589, 0.33118116, 0.3470277 , 0.29738863,\n",
       "       0.36575019, 0.33822931, 0.28005001, 0.25816122, 0.33148039,\n",
       "       0.30987783, 0.3577831 , 0.26979105, 0.38934334, 0.34190506,\n",
       "       0.32105572, 0.33095313, 0.27489794, 0.3679818 , 0.33336346,\n",
       "       0.38367906, 0.44701044, 0.37110016, 0.30808514, 0.30189361,\n",
       "       0.33819918, 0.35361022, 0.34249258, 0.34693662, 0.36819271,\n",
       "       0.34936202, 0.34803634, 0.45184616, 0.35564393, 0.3615643 ,\n",
       "       0.38978021, 0.3777135 , 0.32067911, 0.35550835, 0.35379099,\n",
       "       0.35974149, 0.44612163, 0.34502343, 0.41915608, 0.39368193,\n",
       "       0.33420708, 0.43497386, 0.35620132, 0.35522213, 0.39969268,\n",
       "       0.38182612, 0.31744023, 0.36471279, 0.30480107, 0.36106717,\n",
       "       0.40916829, 0.39182899, 0.34294452, 0.48566608, 0.35272141,\n",
       "       0.30797969, 0.35733116, 0.37607147, 0.36655067, 0.32080038,\n",
       "       0.30575767, 0.41358747, 0.37703258, 0.47163872, 0.47005445,\n",
       "       0.34728813, 0.39259728, 0.33777989, 0.41361735, 0.39530388,\n",
       "       0.30510739, 0.30798974, 0.36713065, 0.31674224, 0.43911913,\n",
       "       0.37180569, 0.36352772, 0.37547893, 0.31486168, 0.33266547,\n",
       "       0.39047067, 0.42024324, 0.36246906, 0.39394179, 0.4017505 ,\n",
       "       0.36461036, 0.31301125, 0.4202558 , 0.63474488, 0.39623537,\n",
       "       0.33662494, 0.49473494, 0.33951733, 0.3831744 , 0.34265829,\n",
       "       0.29254264, 0.26910356, 0.43496017, 0.44931121, 0.46340341,\n",
       "       0.36467171, 0.23680653, 0.36717379, 0.31135141, 0.31431365,\n",
       "       0.20987029, 0.38043516, 0.40700903, 0.32454568, 0.3655313 ,\n",
       "       0.40134978, 0.35442371, 0.63199937, 0.18842929, 0.35147105,\n",
       "       0.39073869, 0.36028947, 0.39069915, 0.26031545, 0.33639144,\n",
       "       0.49177475, 0.28967626, 0.3416113 , 0.25188232, 0.35185068,\n",
       "       0.42777602, 0.36728883, 0.42505536, 0.2847833 , 0.46839608,\n",
       "       0.20238848, 0.38421386, 0.40232521, 0.30030054, 0.43040177,\n",
       "       0.30132869, 0.46883898, 0.30322683, 0.18222082, 0.27396394,\n",
       "       0.18269535, 0.15801961, 0.33612781, 0.22571971, 0.21860171,\n",
       "       0.28835811, 0.41901297, 0.15754508, 0.18475166, 0.22635242,\n",
       "       0.15722873, 0.22603606, 0.37092692, 0.15374881, 0.28962354,\n",
       "       0.09791205, 0.37203417, 0.34751661, 0.35194559, 0.15833597,\n",
       "       0.35020563, 0.35052199, 0.34783296, 0.18807339, 0.15770326,\n",
       "       0.09870294, 0.22714331, 0.25039544, 0.22603606, 0.09664663,\n",
       "       0.15817779, 0.22413793, 0.15896868, 0.40509332, 0.34672572,\n",
       "       0.15770326, 0.27602025, 0.0961721 , 0.24391016, 0.1787409 ,\n",
       "       0.15960139, 0.2208162 , 0.28867447, 0.28962354, 0.15722873,\n",
       "       0.32932616, 0.15849415, 0.32015185, 0.1559633 , 0.24280291,\n",
       "       0.22809238, 0.33676052, 0.28661816, 0.34862385, 0.37693768,\n",
       "       0.22492882, 0.40430244, 0.33612781, 0.22666878, 0.33233154,\n",
       "       0.18237899, 0.29231256, 0.15042708, 0.35922177, 0.21274913,\n",
       "       0.35605821, 0.36902879, 0.21322366, 0.225087  , 0.30813034,\n",
       "       0.22160709, 0.36997786, 0.33375514, 0.15754508, 0.24549193,\n",
       "       0.36285985, 0.2706422 , 0.15517241, 0.15707055, 0.21891806,\n",
       "       0.09538121, 0.09585574, 0.27254034, 0.16371401, 0.18301171,\n",
       "       0.33486239, 0.30401772, 0.33660234, 0.39512812, 0.15675419,\n",
       "       0.39085732, 0.32948434, 0.19123695, 0.1573869 , 0.50490351,\n",
       "       0.27301487, 0.30544132, 0.24675736, 0.35669092, 0.40082252,\n",
       "       0.15422335, 0.4900348 , 0.15580512, 0.2877254 , 0.24232838,\n",
       "       0.25308447, 0.22239798, 0.33343879, 0.56516925, 0.23568491,\n",
       "       0.18063904, 0.22018349, 0.35305283, 0.15406517, 0.21607086,\n",
       "       0.22745966, 0.35621639, 0.28693451, 0.29262891, 0.15659601,\n",
       "       0.21717811, 0.39228092, 0.32173363, 0.22904144, 0.28962354,\n",
       "       0.22761784, 0.18807339, 0.24818096, 0.37124328, 0.09775388,\n",
       "       0.2193926 , 0.34435305, 0.16055046, 0.3554255 , 0.09727934,\n",
       "       0.2279342 , 0.15675419, 0.39417906, 0.29104714, 0.21970895,\n",
       "       0.31461563, 0.33296425, 0.3397659 , 0.35574185, 0.19092059,\n",
       "       0.19155331, 0.16149953, 0.32916798, 0.33422967, 0.24027207,\n",
       "       0.40351155, 0.15928504, 0.36491617, 0.31208478, 0.35336919,\n",
       "       0.16118317, 0.15343246, 0.19123695, 0.27254034, 0.31192661,\n",
       "       0.32046821, 0.1588105 , 0.30923758, 0.21575451, 0.25023727,\n",
       "       0.26004429, 0.19044606, 0.09601392, 0.15722873, 0.15264157,\n",
       "       0.22429611, 0.22919962, 0.22809238, 0.23030686, 0.09886112,\n",
       "       0.09364125, 0.15786144, 0.37029421, 0.37899399, 0.22540335,\n",
       "       0.28899083, 0.15374881, 0.33169883, 0.0990193 , 0.19028788,\n",
       "       0.09633028, 0.27538754, 0.23805758, 0.26985131, 0.17858273,\n",
       "       0.25624802, 0.15564695, 0.22825055, 0.27159127, 0.217969  ,\n",
       "       0.15295792, 0.30828852, 0.09712116, 0.22635242, 0.40762417,\n",
       "       0.22492882, 0.18000633, 0.35763999, 0.22002531, 0.35605821,\n",
       "       0.15612148, 0.33296425, 0.2165454 , 0.40366972, 0.33612781,\n",
       "       0.35779817, 0.41838026, 0.09696299, 0.36871243, 0.61119899,\n",
       "       0.15833597, 0.27285669, 0.23109775, 0.22666878, 0.2877254 ,\n",
       "       0.16039228, 0.35068016, 0.27507118, 0.43577982, 0.18396077,\n",
       "       0.16229041, 0.21749446, 0.09427396, 0.15659601, 0.22160709,\n",
       "       0.15944321, 0.35779817, 0.21875989, 0.19060424, 0.30955394,\n",
       "       0.27412211, 0.21970895, 0.15675419, 0.28218918, 0.19012971,\n",
       "       0.32742803, 0.35147105, 0.22587789, 0.15960139, 0.22540335,\n",
       "       0.2136982 , 0.22413793, 0.22888326, 0.33422967, 0.18823157,\n",
       "       0.29436887, 0.23884847, 0.23552673, 0.28930718, 0.09569756,\n",
       "       0.31951914, 0.28946536, 0.26826953, 0.33723505, 0.22397975,\n",
       "       0.09427396, 0.2720658 , 0.18237899, 0.24533376, 0.26811136,\n",
       "       0.33707687, 0.33502056, 0.09601392, 0.2236634 , 0.29262891,\n",
       "       0.15975957, 0.16229041, 0.28645998, 0.22682695, 0.27000949,\n",
       "       0.25023727, 0.1559633 , 0.22777602, 0.1559633 , 0.2720658 ,\n",
       "       0.54523885, 0.30781398, 0.45049035, 0.35590003, 0.24454287,\n",
       "       0.31967732, 0.35574185, 0.15422335, 0.22682695, 0.22524518,\n",
       "       0.22872509, 0.15960139, 0.33565327, 0.35083834, 0.31050301,\n",
       "       0.28756723, 0.2279342 , 0.289149  , 0.35431825, 0.22587789,\n",
       "       0.22176526, 0.19076242, 0.33502056, 0.289149  , 0.15485606,\n",
       "       0.28677634, 0.15770326, 0.46488453, 0.33565327, 0.27443847,\n",
       "       0.28677634, 0.31176843, 0.28645998, 0.29025625, 0.09459032,\n",
       "       0.22208162, 0.32157545, 0.15722873, 0.26795318, 0.09712116,\n",
       "       0.28408731, 0.35811452, 0.44795951, 0.26415691, 0.28408731,\n",
       "       0.09269219, 0.22840873])"
      ]
     },
     "execution_count": 91,
     "metadata": {},
     "output_type": "execute_result"
    }
   ],
   "source": [
    "means_cur"
   ]
  },
  {
   "cell_type": "code",
   "execution_count": null,
   "metadata": {},
   "outputs": [],
   "source": []
  }
 ],
 "metadata": {
  "kernelspec": {
   "display_name": "Python 3",
   "language": "python",
   "name": "python3"
  },
  "language_info": {
   "codemirror_mode": {
    "name": "ipython",
    "version": 3
   },
   "file_extension": ".py",
   "mimetype": "text/x-python",
   "name": "python",
   "nbconvert_exporter": "python",
   "pygments_lexer": "ipython3",
   "version": "3.6.8"
  }
 },
 "nbformat": 4,
 "nbformat_minor": 2
}
