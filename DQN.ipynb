{
 "cells": [
  {
   "cell_type": "code",
   "execution_count": 1,
   "metadata": {},
   "outputs": [],
   "source": [
    "from nes_py.wrappers import BinarySpaceToDiscreteSpaceEnv, PenalizeDeathEnv\n",
    "import gym_super_mario_bros\n",
    "from gym_super_mario_bros.actions import SIMPLE_MOVEMENT, COMPLEX_MOVEMENT, RIGHT_ONLY\n",
    "env = gym_super_mario_bros.make('SuperMarioBros-v0')\n",
    "env = BinarySpaceToDiscreteSpaceEnv(env, RIGHT_ONLY)\n",
    "\n",
    "#env = PenalizeDeathEnv(env, COMPLEX_MOVEMENT)"
   ]
  },
  {
   "cell_type": "code",
   "execution_count": 2,
   "metadata": {},
   "outputs": [],
   "source": [
    "# env = gym_super_mario_bros.make('SuperMarioBros-v0')\n",
    "# env = BinarySpaceToDiscreteSpaceEnv(env, RIGHT_ONLY)\n",
    "# done = True\n",
    "# for step in range(500):\n",
    "#     if done:\n",
    "#         state = env.reset()\n",
    "#     state, reward, done, info = env.step(env.action_space.sample())\n",
    "\n",
    "#     env.render()\n",
    "\n",
    "# env.close()"
   ]
  },
  {
   "cell_type": "code",
   "execution_count": 3,
   "metadata": {},
   "outputs": [],
   "source": [
    "import numpy as np\n",
    "import copy\n",
    "from scipy import stats\n",
    "\n",
    "def collect_episodes(mdp, model, horizon=None, n_episodes=1):\n",
    "    paths = []\n",
    "\n",
    "    for _ in range(n_episodes):\n",
    "        observations = []\n",
    "        actions = []\n",
    "        rewards = []\n",
    "        next_states = []\n",
    "\n",
    "        state = mdp.reset()\n",
    "        for _ in range(horizon):\n",
    "            \n",
    "            bern = np.random.binomial(1,0.6)\n",
    "            action = bern*np.random.randint(5) + (1-bern)*np.argmax(model.predict(state.reshape(1,240,256,3)))\n",
    "            next_state, reward, terminal, info = mdp.step(action)\n",
    "            \n",
    "            if terminal:\n",
    "                if not info['flag_get'] : \n",
    "                    reward = -3\n",
    "                else : \n",
    "                    reward = 2\n",
    "\n",
    "            observations.append(state)\n",
    "            actions.append(action)\n",
    "            rewards.append(reward)\n",
    "            next_states.append(next_state)\n",
    "            state = copy.copy(next_state)\n",
    "            if terminal:\n",
    "                # Finish rollout if terminal state reached\n",
    "                break\n",
    "                # We need to compute the empirical return for each time step along the\n",
    "                # trajectory\n",
    "\n",
    "        paths.append(dict(\n",
    "            states=np.array(observations),\n",
    "            actions=np.array(actions),\n",
    "            rewards=np.array(rewards),\n",
    "            next_states=np.array(next_states)\n",
    "        ))\n",
    "    return paths"
   ]
  },
  {
   "cell_type": "code",
   "execution_count": 4,
   "metadata": {},
   "outputs": [
    {
     "name": "stderr",
     "output_type": "stream",
     "text": [
      "Using TensorFlow backend.\n"
     ]
    }
   ],
   "source": [
    "from keras.models import Sequential\n",
    "from keras.layers import Dense, Activation, Conv2D, MaxPooling2D, Flatten, BatchNormalization, Dropout\n",
    "from keras.utils.np_utils import to_categorical\n",
    "from keras.optimizers import Adam,SGD"
   ]
  },
  {
   "cell_type": "code",
   "execution_count": 5,
   "metadata": {},
   "outputs": [
    {
     "name": "stdout",
     "output_type": "stream",
     "text": [
      "_________________________________________________________________\n",
      "Layer (type)                 Output Shape              Param #   \n",
      "=================================================================\n",
      "conv2d_1 (Conv2D)            (None, 238, 254, 16)      448       \n",
      "_________________________________________________________________\n",
      "max_pooling2d_1 (MaxPooling2 (None, 119, 127, 16)      0         \n",
      "_________________________________________________________________\n",
      "conv2d_2 (Conv2D)            (None, 117, 125, 32)      4640      \n",
      "_________________________________________________________________\n",
      "max_pooling2d_2 (MaxPooling2 (None, 58, 62, 32)        0         \n",
      "_________________________________________________________________\n",
      "conv2d_3 (Conv2D)            (None, 56, 60, 32)        9248      \n",
      "_________________________________________________________________\n",
      "max_pooling2d_3 (MaxPooling2 (None, 28, 30, 32)        0         \n",
      "_________________________________________________________________\n",
      "conv2d_4 (Conv2D)            (None, 26, 28, 32)        9248      \n",
      "_________________________________________________________________\n",
      "max_pooling2d_4 (MaxPooling2 (None, 13, 14, 32)        0         \n",
      "_________________________________________________________________\n",
      "conv2d_5 (Conv2D)            (None, 11, 12, 32)        9248      \n",
      "_________________________________________________________________\n",
      "max_pooling2d_5 (MaxPooling2 (None, 5, 6, 32)          0         \n",
      "_________________________________________________________________\n",
      "flatten_1 (Flatten)          (None, 960)               0         \n",
      "_________________________________________________________________\n",
      "dense_1 (Dense)              (None, 4)                 3844      \n",
      "=================================================================\n",
      "Total params: 36,676\n",
      "Trainable params: 36,676\n",
      "Non-trainable params: 0\n",
      "_________________________________________________________________\n"
     ]
    }
   ],
   "source": [
    "# Conv \n",
    "\n",
    "input_img = (240,256,3)\n",
    "model = Sequential()\n",
    "model.add(Conv2D(16, (3,3),input_shape=input_img, activation='relu'))\n",
    "model.add(MaxPooling2D(pool_size=(2, 2)))\n",
    "model.add(Conv2D(32, (3,3), activation='relu'))\n",
    "model.add(MaxPooling2D(pool_size=(2, 2)))\n",
    "model.add(Conv2D(32, (3,3), activation='relu'))\n",
    "model.add(MaxPooling2D(pool_size=(2, 2)))\n",
    "model.add(Conv2D(32, (3,3), activation='relu'))\n",
    "model.add(MaxPooling2D(pool_size=(2, 2)))\n",
    "model.add(Conv2D(32, (3,3), activation='relu'))\n",
    "model.add(MaxPooling2D(pool_size=(2, 2)))\n",
    "model.add(Flatten())\n",
    "model.add(Dense(4,activation='linear'))\n",
    "model.compile(loss='mean_squared_error', optimizer='adam')\n",
    "\n",
    "model.summary()"
   ]
  },
  {
   "cell_type": "code",
   "execution_count": null,
   "metadata": {},
   "outputs": [
    {
     "name": "stderr",
     "output_type": "stream",
     "text": [
      " 10%|███████▉                                                                       | 10/100 [14:39<2:11:25, 87.62s/it]"
     ]
    }
   ],
   "source": [
    "from collections import deque\n",
    "import random\n",
    "from tqdm import tqdm\n",
    "import copy\n",
    "\n",
    "discount = 0.9\n",
    "\n",
    "RIGHT_ONLY = RIGHT_ONLY[1:]\n",
    "\n",
    "env = gym_super_mario_bros.make('SuperMarioBros-v1')\n",
    "env = BinarySpaceToDiscreteSpaceEnv(env, RIGHT_ONLY)\n",
    "\n",
    "def create_y(states, actions, rewards, next_states, terminals):\n",
    "    Q = model.predict(states)\n",
    "    TQ = np.where(terminals, rewards, rewards + discount*np.max(model.predict(next_states).reshape(-1,4),axis=1))\n",
    "    Q[:,actions] = TQ\n",
    "    return Q\n",
    "\n",
    "capacity = 500\n",
    "horizon, num_episodes = 1000, 100\n",
    "eps = 1.0\n",
    "decay = 9/100000\n",
    "bsize = 8\n",
    "D = deque(maxlen = capacity)\n",
    "\n",
    "states_r, actions_r, rewards_r, next_states_r, terminals_r = (np.zeros((horizon, 240, 256,3)),\n",
    "                                                              np.zeros((horizon), dtype=int),\n",
    "                                                              np.zeros((horizon)),\n",
    "                                                              np.zeros((horizon, 240, 256,3)),\n",
    "                                                              np.zeros((horizon)))\n",
    "\n",
    "for episode in tqdm(range(num_episodes)):\n",
    "    state = env.reset()\n",
    "    for t in range(horizon):\n",
    "        bern = np.random.binomial(1, eps)\n",
    "        action = bern*np.random.randint(4) + (1-bern)*np.argmax(model.predict(state.reshape(1,240,256,3)))\n",
    "        next_state, reward, terminal, info = env.step(action)\n",
    "        env.render()\n",
    "        states_r[t], actions_r[t], rewards_r[t], next_states_r[t], terminals_r[t] = [state, action,\n",
    "                                                                                     reward, next_state, terminal]\n",
    "        #D.append([state, action, reward, next_state, terminal])\n",
    "        state = copy.copy(next_state)\n",
    "        if terminal : state = env.reset()\n",
    "            \n",
    "        if episode != 0 : minibatch = np.random.choice(np.arange(horizon), bsize)\n",
    "        else : minibatch = np.random.choice(np.arange(t+1), min(bsize, t+1))\n",
    "        \n",
    "        data, y = states_r[minibatch], create_y(states_r[minibatch], actions_r[minibatch], rewards_r[minibatch],\n",
    "                                              next_states_r[minibatch], terminals_r[minibatch])\n",
    "        model.train_on_batch(data, y)\n",
    "        eps = max(0.1, eps - decay)\n",
    "env.close()"
   ]
  },
  {
   "cell_type": "code",
   "execution_count": 7,
   "metadata": {},
   "outputs": [],
   "source": [
    "env = gym_super_mario_bros.make('SuperMarioBros-v1')\n",
    "env = BinarySpaceToDiscreteSpaceEnv(env, RIGHT_ONLY)\n",
    "done = True\n",
    "for step in range(500):\n",
    "    if done:\n",
    "        state = env.reset()\n",
    "    action = np.argmax(model.predict(state.reshape(1,240,256,3)))\n",
    "    state, reward, done, info = env.step(action)\n",
    "#     if done : \n",
    "#         h = state\n",
    "#         print(reward)\n",
    "#         print(done)\n",
    "    env.render()\n",
    "\n",
    "env.close()"
   ]
  },
  {
   "cell_type": "code",
   "execution_count": 5,
   "metadata": {},
   "outputs": [
    {
     "name": "stdout",
     "output_type": "stream",
     "text": [
      "iteration 49\n"
     ]
    }
   ],
   "source": [
    "discount = 0.9\n",
    "for t in range(50): \n",
    "    path = collect_episodes(env, model, horizon=200)[0]\n",
    "    Q = model.predict(path['states'])\n",
    "    TQ = path['rewards'] + discount*np.max(model.predict(path['next_states']),axis=1)\n",
    "    Q[:,path['actions']] = TQ\n",
    "    model.fit(path['states'], Q, verbose=0)\n",
    "    if (t+1)%50 == 0 : \n",
    "        print('iteration {}'.format(t))\n",
    "    "
   ]
  },
  {
   "cell_type": "code",
   "execution_count": 9,
   "metadata": {},
   "outputs": [],
   "source": [
    "env = gym_super_mario_bros.make('SuperMarioBrosNoFrameskip-v0')\n",
    "env = BinarySpaceToDiscreteSpaceEnv(env, RIGHT_ONLY)\n",
    "done = True\n",
    "for step in range(500):\n",
    "    if done:\n",
    "        state = env.reset()\n",
    "    action = np.argmax(model.predict(state.reshape(1,240,256,3)))\n",
    "    state, reward, done, info = env.step(action)\n",
    "#     if done : \n",
    "#         h = state\n",
    "#         print(reward)\n",
    "#         print(done)\n",
    "    env.render()\n",
    "\n",
    "env.close()"
   ]
  },
  {
   "cell_type": "code",
   "execution_count": 47,
   "metadata": {},
   "outputs": [
    {
     "data": {
      "image/png": "[encoded data removed]",
      "text/plain": [
       "<Figure size 432x288 with 1 Axes>"
      ]
     },
     "metadata": {
      "needs_background": "light"
     },
     "output_type": "display_data"
    }
   ],
   "source": [
    "import matplotlib.pyplot as plt \n",
    "plt.imshow(h)\n",
    "plt.show()"
   ]
  },
  {
   "cell_type": "code",
   "execution_count": 48,
   "metadata": {},
   "outputs": [
    {
     "name": "stdout",
     "output_type": "stream",
     "text": [
      "False\n"
     ]
    }
   ],
   "source": [
    "print(done)"
   ]
  },
  {
   "cell_type": "code",
   "execution_count": 49,
   "metadata": {},
   "outputs": [
    {
     "name": "stdout",
     "output_type": "stream",
     "text": [
      "1\n"
     ]
    }
   ],
   "source": [
    "print(reward)"
   ]
  },
  {
   "cell_type": "code",
   "execution_count": null,
   "metadata": {},
   "outputs": [],
   "source": []
  },
  {
   "cell_type": "code",
   "execution_count": 28,
   "metadata": {},
   "outputs": [
    {
     "data": {
      "text/plain": [
       "array([[3.4987988e-05, 7.7925561e-06, 7.5290119e-03, 9.5475543e-01,\n",
       "        1.6911041e-06, 6.2990716e-06, 1.7567293e-09, 8.4045865e-07,\n",
       "        1.3829242e-08, 3.6480512e-02, 8.9927134e-06, 1.1744222e-03]],\n",
       "      dtype=float32)"
      ]
     },
     "execution_count": 28,
     "metadata": {},
     "output_type": "execute_result"
    }
   ],
   "source": [
    "import numpy as np \n",
    "a,b,c,d = env.step(env.action_space.sample())\n",
    "model.predict(a.reshape(1,240,256,3))"
   ]
  },
  {
   "cell_type": "code",
   "execution_count": null,
   "metadata": {},
   "outputs": [],
   "source": []
  },
  {
   "cell_type": "code",
   "execution_count": null,
   "metadata": {},
   "outputs": [],
   "source": []
  },
  {
   "cell_type": "code",
   "execution_count": null,
   "metadata": {},
   "outputs": [],
   "source": []
  },
  {
   "cell_type": "code",
   "execution_count": null,
   "metadata": {},
   "outputs": [],
   "source": []
  },
  {
   "cell_type": "code",
   "execution_count": null,
   "metadata": {},
   "outputs": [],
   "source": []
  },
  {
   "cell_type": "code",
   "execution_count": null,
   "metadata": {},
   "outputs": [],
   "source": []
  },
  {
   "cell_type": "code",
   "execution_count": null,
   "metadata": {},
   "outputs": [],
   "source": []
  },
  {
   "cell_type": "code",
   "execution_count": null,
   "metadata": {},
   "outputs": [],
   "source": []
  },
  {
   "cell_type": "code",
   "execution_count": null,
   "metadata": {},
   "outputs": [],
   "source": []
  },
  {
   "cell_type": "code",
   "execution_count": null,
   "metadata": {},
   "outputs": [],
   "source": []
  }
 ],
 "metadata": {
  "kernelspec": {
   "display_name": "Python 3",
   "language": "python",
   "name": "python3"
  },
  "language_info": {
   "codemirror_mode": {
    "name": "ipython",
    "version": 3
   },
   "file_extension": ".py",
   "mimetype": "text/x-python",
   "name": "python",
   "nbconvert_exporter": "python",
   "pygments_lexer": "ipython3",
   "version": "3.6.6"
  }
 },
 "nbformat": 4,
 "nbformat_minor": 2
}
